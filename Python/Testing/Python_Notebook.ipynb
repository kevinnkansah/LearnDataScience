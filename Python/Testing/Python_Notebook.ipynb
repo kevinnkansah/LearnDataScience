{
 "cells": [
  {
   "cell_type": "code",
   "execution_count": 1,
   "metadata": {},
   "outputs": [
    {
     "data": {
      "text/plain": [
       "((-0.12499999999999994+0.9921567416492215j),\n",
       " (-0.12500000000000006-0.9921567416492215j))"
      ]
     },
     "execution_count": 1,
     "metadata": {},
     "output_type": "execute_result"
    }
   ],
   "source": [
    "#Keyword arguments\n",
    "\n",
    "def quadratic(a, b, c):\n",
    "    x1 = (-b + (b ** 2 - 4 * a * c) ** 0.5) / (2 * a)\n",
    "    x2 = (-b - (b ** 2 - 4 * a * c) ** 0.5) / (2 * a)\n",
    "    return x1, x2\n",
    "\n",
    "quadratic(b=1,c=4,a=4)"
   ]
  },
  {
   "cell_type": "code",
   "execution_count": 2,
   "metadata": {},
   "outputs": [
    {
     "data": {
      "text/plain": [
       "175"
      ]
     },
     "execution_count": 2,
     "metadata": {},
     "output_type": "execute_result"
    }
   ],
   "source": [
    "#Args\n",
    "\n",
    "def add(*args):     # *args packs all positional arguments into a tuple\n",
    "    sum = 0 \n",
    "    for n in args:\n",
    "        sum += n\n",
    "    return sum\n",
    "        \n",
    "add(55,55,55,5,5)\n",
    "    \n",
    "    "
   ]
  },
  {
   "cell_type": "code",
   "execution_count": 3,
   "metadata": {},
   "outputs": [
    {
     "name": "stdout",
     "output_type": "stream",
     "text": [
      "Hello Gabe Vincent\n"
     ]
    }
   ],
   "source": [
    "def hello(first, last):\n",
    "    print(\"Hello \" + first + \" \" + last)\n",
    "    \n",
    "hello(first=\"Gabe\", last=\"Vincent\")"
   ]
  },
  {
   "cell_type": "code",
   "execution_count": 4,
   "metadata": {},
   "outputs": [
    {
     "name": "stdout",
     "output_type": "stream",
     "text": [
      "Gabe Chuwemeka Vincent "
     ]
    }
   ],
   "source": [
    "def hi(**name):                # *kwargs packs all keyword arguments into a dictionary\n",
    "    for value in name.values():\n",
    "        print(value, end=\" \")\n",
    "    \n",
    "hi(first=\"Gabe\",middle=\"Chuwemeka\", last=\"Vincent\")  \n",
    "\n",
    "    "
   ]
  },
  {
   "cell_type": "code",
   "execution_count": 5,
   "metadata": {},
   "outputs": [
    {
     "data": {
      "text/plain": [
       "15"
      ]
     },
     "execution_count": 5,
     "metadata": {},
     "output_type": "execute_result"
    }
   ],
   "source": [
    "import random\n",
    "\n",
    "#Generating a random number between 1 and 100\n",
    "random.randint(1,100)\n"
   ]
  },
  {
   "cell_type": "code",
   "execution_count": 6,
   "metadata": {},
   "outputs": [
    {
     "name": "stdout",
     "output_type": "stream",
     "text": [
      "98\n"
     ]
    }
   ],
   "source": [
    "#Random choice from list\n",
    "z = [x for x in range(100)]\n",
    "y = random.choice(z)\n",
    "print(y)"
   ]
  },
  {
   "cell_type": "code",
   "execution_count": 7,
   "metadata": {},
   "outputs": [
    {
     "name": "stdout",
     "output_type": "stream",
     "text": [
      "['Nami', 'Luffy', 'Chopper', 'Zoro', 'Brook', 'Usopp', 'Sanji']\n"
     ]
    }
   ],
   "source": [
    "#Shuffling a list\n",
    "\n",
    "one_piece = [\"Luffy\", \"Zoro\", \"Nami\", \"Chopper\", \"Sanji\", \"Brook\", \"Usopp\"]\n",
    "\n",
    "random.shuffle(one_piece)\n",
    "\n",
    "print(one_piece)"
   ]
  },
  {
   "cell_type": "code",
   "execution_count": 8,
   "metadata": {},
   "outputs": [
    {
     "name": "stdout",
     "output_type": "stream",
     "text": [
      "Help on built-in function round in module builtins:\n",
      "\n",
      "round(number, ndigits=None)\n",
      "    Round a number to a given precision in decimal digits.\n",
      "    \n",
      "    The return value is an integer if ndigits is omitted or None.  Otherwise\n",
      "    the return value has the same type as the number.  ndigits may be negative.\n",
      "\n"
     ]
    }
   ],
   "source": [
    "help(round)"
   ]
  },
  {
   "cell_type": "code",
   "execution_count": 9,
   "metadata": {},
   "outputs": [
    {
     "name": "stdout",
     "output_type": "stream",
     "text": [
      "[1, 2, 4, 8, 16, 32, 64, 128, 256, 512, 1024]\n",
      "[1024, 512, 256, 128, 64, 32, 16, 8, 4, 2, 1]\n",
      "[1025, 514, 260, 136, 80, 64, 80, 136, 260, 514, 1025]\n",
      "{0: 0, 1: 5, 2: 10}\n"
     ]
    }
   ],
   "source": [
    "a = [2**i for i in range(0, 11)]\n",
    "b = [2**i for i in reversed(range(0, 11))]\n",
    "c = [x + y for x, y in zip(a, b)]\n",
    "d = {x : x*5 for x in range(3)}\n",
    "\n",
    "print(a)\n",
    "print(b)\n",
    "print(c)\n",
    "print(d)"
   ]
  },
  {
   "cell_type": "code",
   "execution_count": 10,
   "metadata": {},
   "outputs": [
    {
     "data": {
      "text/plain": [
       "'two'"
      ]
     },
     "execution_count": 10,
     "metadata": {},
     "output_type": "execute_result"
    }
   ],
   "source": [
    "def return_suin(value):\n",
    "    return value\n",
    "\n",
    "return_suin('two')"
   ]
  },
  {
   "cell_type": "code",
   "execution_count": 11,
   "metadata": {},
   "outputs": [],
   "source": [
    "#This is a generator\n",
    "\n",
    "def lazy_range(n):\n",
    "    i = 0\n",
    "    while i < n:\n",
    "        yield i\n",
    "        i += 1"
   ]
  },
  {
   "cell_type": "code",
   "execution_count": 12,
   "metadata": {},
   "outputs": [
    {
     "name": "stdout",
     "output_type": "stream",
     "text": [
      "[(' ', 8), ('e', 4), ('u', 4)]\n"
     ]
    }
   ],
   "source": [
    "from collections import Counter\n",
    " \n",
    "my_string = \"me and my bih we be off the druuuuhgs\"\n",
    "\n",
    "my_counter = Counter(my_string)\n",
    "\n",
    "print(my_counter.most_common(3))"
   ]
  },
  {
   "cell_type": "code",
   "execution_count": 13,
   "metadata": {},
   "outputs": [
    {
     "name": "stdout",
     "output_type": "stream",
     "text": [
      "Point(x=9, y=8)\n"
     ]
    }
   ],
   "source": [
    "from collections import namedtuple\n",
    "\n",
    "Point = namedtuple('Point', 'x, y')\n",
    "\n",
    "pt = Point(9, 8)\n",
    "\n",
    "print(pt)"
   ]
  },
  {
   "cell_type": "code",
   "execution_count": 14,
   "metadata": {},
   "outputs": [
    {
     "data": {
      "text/plain": [
       "[(1, 3), (1, 4), (2, 3), (2, 4)]"
      ]
     },
     "execution_count": 14,
     "metadata": {},
     "output_type": "execute_result"
    }
   ],
   "source": [
    "from itertools import product \n",
    "\n",
    "a = [1, 2]\n",
    "b = [3, 4]\n",
    "\n",
    "prod = product(a, b)\n",
    "\n",
    "list(prod)"
   ]
  },
  {
   "cell_type": "code",
   "execution_count": 15,
   "metadata": {},
   "outputs": [
    {
     "name": "stdout",
     "output_type": "stream",
     "text": [
      "[(1, 3), (4, 2), (9, 2), (5, 3), (7, 4)]\n",
      "[(4, 2), (9, 2), (1, 3), (5, 3), (7, 4)]\n"
     ]
    }
   ],
   "source": [
    "points2D = [(1, 3), (4, 2), (9, 2), (5, 3), (7, 4)]\n",
    "\n",
    "points2D_sorted = sorted(points2D, key=lambda x: x[1])\n",
    "\n",
    "print(points2D)\n",
    "print(points2D_sorted)"
   ]
  },
  {
   "cell_type": "code",
   "execution_count": 16,
   "metadata": {},
   "outputs": [
    {
     "name": "stdout",
     "output_type": "stream",
     "text": [
      "[1, 2, 3, 4, 5]\n",
      "[2, 4, 6, 8, 10]\n"
     ]
    }
   ],
   "source": [
    "a = [x for x in range(1, 6)]\n",
    "b = map(lambda x: x*2, a)\n",
    "\n",
    "print(a)\n",
    "print(list(b))"
   ]
  },
  {
   "cell_type": "code",
   "execution_count": 17,
   "metadata": {},
   "outputs": [
    {
     "name": "stdout",
     "output_type": "stream",
     "text": [
      "[2, 4]\n"
     ]
    }
   ],
   "source": [
    "c = filter(lambda x: x%2 == 0, a)\n",
    "\n",
    "print(list(c))"
   ]
  },
  {
   "cell_type": "code",
   "execution_count": 18,
   "metadata": {},
   "outputs": [
    {
     "name": "stdout",
     "output_type": "stream",
     "text": [
      "120\n"
     ]
    }
   ],
   "source": [
    "from functools import reduce\n",
    "\n",
    "\n",
    "product = reduce(lambda x, y: x*y , a)\n",
    "\n",
    "print(product)"
   ]
  },
  {
   "cell_type": "code",
   "execution_count": 19,
   "metadata": {},
   "outputs": [
    {
     "name": "stdout",
     "output_type": "stream",
     "text": [
      "start\n",
      "Gabe\n",
      "end\n"
     ]
    }
   ],
   "source": [
    "def start_end_decorator(func):\n",
    "    def wrapper():\n",
    "        print('start')\n",
    "        func()\n",
    "        print('end')\n",
    "\n",
    "    return wrapper\n",
    "@start_end_decorator \n",
    "def print_name():\n",
    "    print('Gabe')\n",
    "    \n",
    "#print_name = start_end_decorator(print_name)\n",
    "\n",
    "print_name()"
   ]
  },
  {
   "cell_type": "code",
   "execution_count": 51,
   "metadata": {},
   "outputs": [
    {
     "data": {
      "image/png": "[encoded data removed]",
      "text/plain": [
       "<Figure size 640x480 with 1 Axes>"
      ]
     },
     "metadata": {},
     "output_type": "display_data"
    }
   ],
   "source": [
    "import matplotlib.pyplot as plt\n",
    "import numpy as np\n",
    "\n",
    "def f(x):\n",
    "  return np.sin(x)\n",
    "\n",
    "x = np.linspace(-5, 6.283, 100)\n",
    "\n",
    "\n",
    "plt.plot(x, f(x), color='#bf1704', linewidth=2)\n",
    "\n",
    "\n",
    "plt.axhline(0, color='k')\n",
    "plt.axvline(0, color='k')\n",
    "plt.axhline(np.sqrt(3)/2)\n",
    "plt.axvline((np.pi)*2, color='k')\n",
    "\n",
    "plt.xticks(range(-5, 7))\n",
    "plt.yticks(range(-5, 6))\n",
    "plt.xlim([0, 6.283])\n",
    "plt.ylim([-3, 2])\n",
    "\n",
    "plt.grid()\n",
    "plt.show()"
   ]
  },
  {
   "cell_type": "code",
   "execution_count": 26,
   "metadata": {},
   "outputs": [
    {
     "data": {
      "text/plain": [
       "array([-3.        , -2.93939394, -2.87878788, -2.81818182, -2.75757576,\n",
       "       -2.6969697 , -2.63636364, -2.57575758, -2.51515152, -2.45454545,\n",
       "       -2.39393939, -2.33333333, -2.27272727, -2.21212121, -2.15151515,\n",
       "       -2.09090909, -2.03030303, -1.96969697, -1.90909091, -1.84848485,\n",
       "       -1.78787879, -1.72727273, -1.66666667, -1.60606061, -1.54545455,\n",
       "       -1.48484848, -1.42424242, -1.36363636, -1.3030303 , -1.24242424,\n",
       "       -1.18181818, -1.12121212, -1.06060606, -1.        , -0.93939394,\n",
       "       -0.87878788, -0.81818182, -0.75757576, -0.6969697 , -0.63636364,\n",
       "       -0.57575758, -0.51515152, -0.45454545, -0.39393939, -0.33333333,\n",
       "       -0.27272727, -0.21212121, -0.15151515, -0.09090909, -0.03030303,\n",
       "        0.03030303,  0.09090909,  0.15151515,  0.21212121,  0.27272727,\n",
       "        0.33333333,  0.39393939,  0.45454545,  0.51515152,  0.57575758,\n",
       "        0.63636364,  0.6969697 ,  0.75757576,  0.81818182,  0.87878788,\n",
       "        0.93939394,  1.        ,  1.06060606,  1.12121212,  1.18181818,\n",
       "        1.24242424,  1.3030303 ,  1.36363636,  1.42424242,  1.48484848,\n",
       "        1.54545455,  1.60606061,  1.66666667,  1.72727273,  1.78787879,\n",
       "        1.84848485,  1.90909091,  1.96969697,  2.03030303,  2.09090909,\n",
       "        2.15151515,  2.21212121,  2.27272727,  2.33333333,  2.39393939,\n",
       "        2.45454545,  2.51515152,  2.57575758,  2.63636364,  2.6969697 ,\n",
       "        2.75757576,  2.81818182,  2.87878788,  2.93939394,  3.        ])"
      ]
     },
     "execution_count": 26,
     "metadata": {},
     "output_type": "execute_result"
    }
   ],
   "source": []
  }
 ],
 "metadata": {
  "kernelspec": {
   "display_name": "Python 3",
   "language": "python",
   "name": "python3"
  },
  "language_info": {
   "codemirror_mode": {
    "name": "ipython",
    "version": 3
   },
   "file_extension": ".py",
   "mimetype": "text/x-python",
   "name": "python",
   "nbconvert_exporter": "python",
   "pygments_lexer": "ipython3",
   "version": "3.11.5"
  },
  "orig_nbformat": 4
 },
 "nbformat": 4,
 "nbformat_minor": 2
}
